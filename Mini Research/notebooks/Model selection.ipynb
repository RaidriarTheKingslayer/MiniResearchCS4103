{
 "cells": [
  {
   "cell_type": "code",
   "execution_count": 2,
   "metadata": {},
   "outputs": [],
   "source": [
    "import re\n",
    "import os\n",
    "import pickle\n",
    "import numpy as np\n",
    "import pandas as pd\n",
    "from tqdm import tqdm\n",
    "import seaborn as sns\n",
    "import matplotlib.pyplot as plt\n",
    "\n",
    "from scipy.stats import multinomial\n",
    "\n",
    "%matplotlib inline"
   ]
  },
  {
   "cell_type": "code",
   "execution_count": 3,
   "metadata": {},
   "outputs": [],
   "source": [
    "train_grocery_df, test_grocery_df, X_train, X_test, train_household_ids, test_household_ids = pickle.load(open('data.p', 'rb'))"
   ]
  },
  {
   "cell_type": "code",
   "execution_count": 51,
   "metadata": {},
   "outputs": [],
   "source": [
    "def multinomial_prob(counts, beta):\n",
    "    n = counts.sum(axis=-1)\n",
    "    m = multinomial(n, beta)\n",
    "    return m.pmf(counts)\n",
    "\n",
    "def compute_log_likelihood(X_test, alpha, beta):\n",
    "    mn_probs = np.zeros(X_test.shape[0])\n",
    "    for k in range(beta.shape[0]):\n",
    "        mn_probs_k = alpha[k] * multinomial_prob(X_test, beta[k])\n",
    "        mn_probs += mn_probs_k\n",
    "    mn_probs[mn_probs == 0] = np.finfo(float).eps\n",
    "    return np.log(mn_probs).sum()\n",
    "\n",
    "def compute_bic(X_test, alpha, beta, log_likelihood=None):\n",
    "    if log_likelihood is None:\n",
    "        log_likelihood = compute_log_likelihood(X_test, alpha, beta)\n",
    "    N = X_test.shape[0]\n",
    "    if len(alpha.shape) == 2:\n",
    "        unique_alpha = np.unique(alpha, axis=0)\n",
    "        nb_params_penalty = (unique_alpha.shape[0] * unique_alpha.shape[1] - 1) + (beta.shape[0] * (beta.shape[0] - 1))\n",
    "    else:\n",
    "        nb_params_penalty = (alpha.shape[0] - 1) + (beta.shape[0] * (beta.shape[0] - 1))\n",
    "    return -log_likelihood + (0.5 * np.log(N) * nb_params_penalty)\n",
    "\n",
    "def get_fit_metrics(pickle_dir, load_pickle):\n",
    "    bics = {}\n",
    "    likelihoods = {}\n",
    "    for filename in tqdm(os.listdir(pickle_dir)):\n",
    "        match = re.match('best_params_([0-9]+).p', filename)    \n",
    "        if match is None:\n",
    "            continue\n",
    "        filepath = os.path.join(pickle_dir, filename)\n",
    "        test_log_likelihood, best_alpha, best_beta, best_gamma = load_pickle(filepath)\n",
    "        k = int(match.groups()[0])\n",
    "        likelihoods[k] = test_log_likelihood\n",
    "        bics[k] = compute_bic(X_test, best_alpha, best_beta, test_log_likelihood)\n",
    "    return likelihoods, bics\n",
    "\n",
    "def plot_values_by_k(values_by_k, title, label, ax, plot_min=None):\n",
    "    sorted_kvp = list(sorted(values_by_k.items(), key=lambda kvp: kvp[0]))\n",
    "    keys = [l[0] for l in sorted_kvp]\n",
    "    values = [l[1] for l in sorted_kvp]\n",
    "    sns.scatterplot(x=keys, y=values, ax=ax, label=label)\n",
    "    ax.set_title(title)\n",
    "    ax.set_xlabel('Number of clusters')\n",
    "    if plot_min is not None:\n",
    "        min_key = plot_min\n",
    "        min_idx = [i for i, k in enumerate(keys) if k == plot_min][0]\n",
    "        ax.scatter([min_key], [values[min_idx]], color='red')\n",
    "\n",
    "def plot_fit_metrics(pickle_dir, load_pickle):\n",
    "    likelihoods, bics, icl_bics = get_fit_metrics(pickle_dir, load_pickle)\n",
    "    \n",
    "    fig, axes = plt.subplots(ncols=2, figsize=(16, 5))\n",
    "    axes = axes.ravel()\n",
    "    plot_values_by_k(likelihoods, 'Likelihood', axes[0])\n",
    "    plot_values_by_k(bics, 'BIC', axes[1], plot_min=True)\n",
    "\n",
    "def compare_fit_metrics(pickle_dir1, pickle_dir2, load_pickle):\n",
    "    likelihoods1, bics1 = get_fit_metrics(pickle_dir1, load_pickle)\n",
    "    likelihoods2, bics2 = get_fit_metrics(pickle_dir2, load_pickle)\n",
    "    \n",
    "    del bics1[1]\n",
    "    del bics2[1]\n",
    "    \n",
    "    fig, axes = plt.subplots(ncols=2, figsize=(16, 5))\n",
    "    axes = axes.ravel()\n",
    "    plot_values_by_k(likelihoods1, 'Likelihood', 'Global', axes[0])\n",
    "    plot_values_by_k(likelihoods2, 'Likelihood', 'Individual', axes[0])\n",
    "    axes[0].legend()\n",
    "    plot_values_by_k(bics1, 'BIC', 'Global', axes[1], plot_min=30)\n",
    "    plot_values_by_k(bics2, 'BIC', 'Individual', axes[1], plot_min=2)\n",
    "    axes[1].legend()\n",
    "\n",
    "def load_pickle(filepath):\n",
    "    best_train_loss, test_log_likelihood, test_bic, best_alpha, best_beta, best_gamma = args = pickle.load(open(filepath, 'rb'))\n",
    "    return test_log_likelihood, best_alpha, best_beta, best_gamma"
   ]
  },
  {
   "cell_type": "code",
   "execution_count": 52,
   "metadata": {},
   "outputs": [
    {
     "name": "stderr",
     "output_type": "stream",
     "text": [
      "100%|██████████| 22/22 [00:16<00:00,  1.34it/s]\n",
      "100%|██████████| 21/21 [00:35<00:00,  1.71s/it]\n"
     ]
    },
    {
     "data": {
      "image/png": "[encoded data removed]",
      "text/plain": [
       "<Figure size 1152x360 with 2 Axes>"
      ]
     },
     "metadata": {
      "needs_background": "light"
     },
     "output_type": "display_data"
    }
   ],
   "source": [
    "global_results_dir = '/home/adrien/Projects/MNMM/run_with_gamma'\n",
    "individual_results_dir = '/home/adrien/Projects/MNMM/run_with_individuals'\n",
    "compare_fit_metrics(global_results_dir, individual_results_dir, load_pickle)"
   ]
  },
  {
   "cell_type": "code",
   "execution_count": null,
   "metadata": {},
   "outputs": [],
   "source": []
  }
 ],
 "metadata": {
  "kernelspec": {
   "display_name": "Python 3 (ipykernel)",
   "language": "python",
   "name": "python3"
  },
  "language_info": {
   "codemirror_mode": {
    "name": "ipython",
    "version": 3
   },
   "file_extension": ".py",
   "mimetype": "text/x-python",
   "name": "python",
   "nbconvert_exporter": "python",
   "pygments_lexer": "ipython3",
   "version": "3.11.5"
  }
 },
 "nbformat": 4,
 "nbformat_minor": 4
}
